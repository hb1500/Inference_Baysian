{
 "cells": [
  {
   "cell_type": "code",
   "execution_count": 140,
   "metadata": {},
   "outputs": [],
   "source": [
    "import pandas as pd\n",
    "import numpy as np\n",
    "from collections import OrderedDict\n",
    "from itertools import islice\n",
    "import matplotlib.pyplot as plt\n",
    "%matplotlib inline"
   ]
  },
  {
   "cell_type": "markdown",
   "metadata": {},
   "source": [
    "### (a) data processing"
   ]
  },
  {
   "cell_type": "code",
   "execution_count": 10,
   "metadata": {},
   "outputs": [],
   "source": [
    "# load data:\n",
    "train_l = open('./data/train.txt','r').readlines()\n",
    "test_l = open('./data/test.txt','r').readlines()"
   ]
  },
  {
   "cell_type": "markdown",
   "metadata": {},
   "source": [
    "Line of training set:\n",
    "\n",
    "'/000/003 ham need 1 fw 1 35 2 39 1 thanks 1 thread 2 40 1 copy 1 else 1 correlator 1 under 1 companies 1 25 1 he 2 26 2 168 1 29 2 content 4 1 1 6 1 5 1 4 1 review 2 we 1 john 3 17 1 use 1 15 1 20 1 classes 1 may 1 a 1 back 1 l 1 01 1 produced 1 i 1 yes 1 10 2 713 2 v6 1 p 1 original 2 doc 2 2001 4 comments 1 x 3 week 1 to 6 harry 2 110 1 smtpsvc 1 has 1 who 1 sender 1 would 1 any 2 jan 5 be 1 index 1 text 1 intended 1 and 2 urn 1 email 2 cc 1 1600 1 can 1 re 2 corp 3 fri 2 response 1 65 1 plain 1 confidential 1 853 1 you 6 mailto 1 anything 1 am 1 our 3 they 1 for 6 info 1 of 2 are 3 on 1 exchange 1 topic 1 information 5 transfer 1 or 3 msmbx01v 3 4418 1 questions 1 now 1 them 1 pm 2 mime 1 binary 1 subject 3 tnef 1 nahou 4 version 1 thank 2 encoding 1 contracts 1 me 2 tuesday 2 ena 6 trading 1 just 1 let 1 ms 2 return 1 0500 2 attach 1 attached 1 account 1 mimeole 1 but 1 send 1 individual 1 him 1 type 1 192 1 2195 1 sent 2 enron 9 please 3 when 1 contract 1 class 1 here 1 msmbx05v 1 company 6 this 4 call 1 have 1 june 2 currently 1 while 1 if 2 path 1 find 1 with 4 is 2 it 1 error 1 your 2 agreement 2 the 6 in 2 know 1 their 1 energy 1\\n'"
   ]
  },
  {
   "cell_type": "code",
   "execution_count": 49,
   "metadata": {},
   "outputs": [],
   "source": [
    "# define a function to construct a data structure containing 'id', 'lable', 'word_count':\n",
    "def pre_processing(line):\n",
    "    '''\n",
    "    {\n",
    "    'id': '/000/003',\n",
    "     'label': 0 if ham, 1 if spam,\n",
    "     'word_count': {'need': 1,'fw': 1, ... ...}\n",
    "    }\n",
    "    '''\n",
    "    d = {}\n",
    "    comp = line[:-1].split(' ')\n",
    "    d['id'] = comp[0]\n",
    "    d['label'] = 1 if comp[1]=='spam' else 0\n",
    "    key = comp[2:][::2]\n",
    "    value = [int(x) for x in comp[3:][::2]]\n",
    "    d['word_count'] = dict(zip(key, value))       \n",
    "    return d\n",
    "# iterate over lines in train_l and test_l:\n",
    "def generate_docu(lines):\n",
    "    output = []\n",
    "    for line in lines: \n",
    "        output.append(pre_processing(line))\n",
    "    return output"
   ]
  },
  {
   "cell_type": "code",
   "execution_count": 54,
   "metadata": {},
   "outputs": [],
   "source": [
    "train_docu = generate_docu(train_l)\n",
    "test_docu = generate_docu(test_l)"
   ]
  },
  {
   "cell_type": "markdown",
   "metadata": {},
   "source": [
    "### (b) Using the training data, compute the prior probabilities $P(spam)$ and $P(ham)$"
   ]
  },
  {
   "cell_type": "markdown",
   "metadata": {},
   "source": [
    "p(spam) = number of spam/ number of all; p(ham) = 1 - p(spam)"
   ]
  },
  {
   "cell_type": "code",
   "execution_count": 59,
   "metadata": {},
   "outputs": [],
   "source": [
    "# get the spam and ham subsets in train_docu:\n",
    "train_docu_spam = list(filter(lambda x: x['label']==1, train_docu))\n",
    "train_docu_ham = list(filter(lambda x: x['label']==0, train_docu))"
   ]
  },
  {
   "cell_type": "code",
   "execution_count": 62,
   "metadata": {},
   "outputs": [
    {
     "name": "stdout",
     "output_type": "stream",
     "text": [
      "p(spam) =  0.5736666666666667\n",
      "p(ham) =  0.42633333333333334\n"
     ]
    }
   ],
   "source": [
    "print('p(spam) = ', len(train_docu_spam)/len(train_docu))\n",
    "print('p(ham) = ', 1- len(train_docu_spam)/len(train_docu))"
   ]
  },
  {
   "cell_type": "markdown",
   "metadata": {},
   "source": [
    "### (c) Determine the vocabulary and compute the conditional probabilities $P(w_i|spam)$ and $P (w_i |ham)$\n",
    "\n",
    "$P(w_j|spam) = (n_c + mp)/(n + m) $"
   ]
  },
  {
   "cell_type": "code",
   "execution_count": 68,
   "metadata": {},
   "outputs": [],
   "source": [
    "# construct a new word_count dictionary for all vocabulary\n",
    "def get_word_count(data):\n",
    "    word_dict = {}\n",
    "    for i in data:\n",
    "        for key, value in i['word_count'].items(): \n",
    "            if key in word_dict:\n",
    "                word_dict[key] = value + word_dict[key]\n",
    "            else:\n",
    "                word_dict[key] = value\n",
    "    return word_dict"
   ]
  },
  {
   "cell_type": "code",
   "execution_count": 78,
   "metadata": {},
   "outputs": [],
   "source": [
    "train_vb = get_word_count(train_docu)\n",
    "spam_vb = get_word_count(train_docu_spam)\n",
    "ham_vb = get_word_count(train_docu_ham)"
   ]
  },
  {
   "cell_type": "code",
   "execution_count": 155,
   "metadata": {},
   "outputs": [],
   "source": [
    "# define a funciton to compute the conditional probabilities:\n",
    "def m_estimate(train_vb, sub_vb, word_l, m_coef = 1):\n",
    "    result = {}\n",
    "    n = np.sum(list(sub_vb.values()))\n",
    "    train_sum = len(list(train_vb.values()))\n",
    "    m = m_coef * train_sum\n",
    "    p = 1/train_sum\n",
    "    for w_j in word_l:\n",
    "        #print(w_j)\n",
    "        try: \n",
    "            n_c = sub_vb[w_j]\n",
    "        except:\n",
    "            n_c = 0\n",
    "        result[w_j]=(n_c + m*p)/(n+m)\n",
    "    return result"
   ]
  },
  {
   "cell_type": "code",
   "execution_count": 113,
   "metadata": {},
   "outputs": [],
   "source": [
    "spam_result = m_estimate(train_vb, spam_vb, list(train_vb.keys()))\n",
    "ham_result = m_estimate(train_vb, ham_vb, list(train_vb.keys()))"
   ]
  },
  {
   "cell_type": "code",
   "execution_count": 114,
   "metadata": {},
   "outputs": [],
   "source": [
    "# sort both spam and ham results by value in descending order\n",
    "ham_result_ordered = OrderedDict(sorted(ham_result.items(), key=lambda x: x[1], reverse=True))\n",
    "spam_result_ordered = OrderedDict(sorted(spam_result.items(), key=lambda x: x[1], reverse=True))"
   ]
  },
  {
   "cell_type": "code",
   "execution_count": 115,
   "metadata": {},
   "outputs": [],
   "source": [
    "# get the top 5 words: \n",
    "def take(n, iterable):\n",
    "    \"Return first n items of the iterable as a list\"\n",
    "    return list(islice(iterable, n))\n",
    "\n",
    "ham_top = take(5, ham_result_ordered.keys())\n",
    "spam_top = take(5, spam_result_ordered.keys())"
   ]
  },
  {
   "cell_type": "code",
   "execution_count": 116,
   "metadata": {},
   "outputs": [
    {
     "name": "stdout",
     "output_type": "stream",
     "text": [
      "5 most likely words given a document is ham are  ['aaaaaaaaaaaaaaaaaaaaaaaaaaaaaaaaaaaaaaaaaaaaaaaaaaaaaaaaaaaaaaaaaaaaaaaaaaaa', 'enron', 'the', 'to', 'a']\n",
      "5 most likely words given a document is spam are  ['enron', 'a', 'corp', 'the', 'to']\n"
     ]
    }
   ],
   "source": [
    "print('5 most likely words given a document is ham are ',ham_top)\n",
    "print('5 most likely words given a document is spam are ',spam_top)"
   ]
  },
  {
   "cell_type": "markdown",
   "metadata": {},
   "source": [
    "### (d)  Use these probabilities to classify the test data and report the accuracy"
   ]
  },
  {
   "cell_type": "code",
   "execution_count": 156,
   "metadata": {},
   "outputs": [],
   "source": [
    "def classifier(train_docu, test_docu, m_coef):\n",
    "    train_docu_spam = list(filter(lambda x: x['label']==1, train_docu))\n",
    "    train_docu_ham = list(filter(lambda x: x['label']==0, train_docu))\n",
    "    # calcualte p_spam, p_ham\n",
    "    p_spam, p_ham = len(train_docu_spam)/len(train_docu), 1-len(train_docu_spam)/len(train_docu)\n",
    "    # construct vocabulary\n",
    "    train_vb = get_word_count(train_docu)\n",
    "    spam_vb = get_word_count(train_docu_spam)\n",
    "    ham_vb = get_word_count(train_docu_ham)\n",
    "    # compute the word_spam/ham conditional probabilities\n",
    "    spam_result = m_estimate(train_vb, spam_vb, list(train_vb.keys()), m_coef)\n",
    "    ham_result = m_estimate(train_vb, ham_vb, list(train_vb.keys()), m_coef)\n",
    "    \n",
    "    pred = []\n",
    "    for docu in test_docu:\n",
    "        word_l = list(docu['word_count'].keys())\n",
    "        # compute log-prob of being spam/ham\n",
    "        log_p_spam, log_p_ham = np.log(p_spam), np.log(p_ham)\n",
    "        for w_i, w_count in docu['word_count'].items():\n",
    "            log_p_spam = log_p_spam + w_count * np.log(spam_result[w_i])\n",
    "            log_p_ham = log_p_ham + w_count * np.log(ham_result[w_i])\n",
    "        pred.append(log_p_spam > log_p_ham)\n",
    "    return pred"
   ]
  },
  {
   "cell_type": "code",
   "execution_count": 150,
   "metadata": {},
   "outputs": [],
   "source": [
    "def accuracy(preds, test_docu):\n",
    "    true_l = [i['label'] for i in test_docu]\n",
    "    sum = 0\n",
    "    for i in range(len(preds)):\n",
    "        sum += (true_l[i] == preds[i])\n",
    "    return sum/len(preds)"
   ]
  },
  {
   "cell_type": "code",
   "execution_count": 159,
   "metadata": {},
   "outputs": [],
   "source": [
    "preds = classifier(train_docu, test_docu, m_coef=1)"
   ]
  },
  {
   "cell_type": "code",
   "execution_count": 160,
   "metadata": {},
   "outputs": [
    {
     "data": {
      "text/plain": [
       "0.902"
      ]
     },
     "execution_count": 160,
     "metadata": {},
     "output_type": "execute_result"
    }
   ],
   "source": [
    "accuracy(preds, test_docu)"
   ]
  },
  {
   "cell_type": "markdown",
   "metadata": {},
   "source": [
    "### (e) Vary the m parameter, using m = |V ocabulary| × [1, 10, 100, 1000, 10000] and plot the accuracies vs. m"
   ]
  },
  {
   "cell_type": "code",
   "execution_count": 161,
   "metadata": {},
   "outputs": [],
   "source": [
    "m_coef_l = [1, 10, 100, 1000, 10000]\n",
    "results = []\n",
    "for m_coef in m_coef_l:\n",
    "    preds = classifier(train_docu, test_docu, m_coef)\n",
    "    results.append(accuracy(preds, test_docu))"
   ]
  },
  {
   "cell_type": "code",
   "execution_count": 162,
   "metadata": {},
   "outputs": [
    {
     "data": {
      "text/plain": [
       "[0.902, 0.904, 0.904, 0.871, 0.765]"
      ]
     },
     "execution_count": 162,
     "metadata": {},
     "output_type": "execute_result"
    }
   ],
   "source": [
    "results"
   ]
  },
  {
   "cell_type": "code",
   "execution_count": 163,
   "metadata": {},
   "outputs": [
    {
     "data": {
      "text/plain": [
       "[<matplotlib.lines.Line2D at 0x120582ef0>]"
      ]
     },
     "execution_count": 163,
     "metadata": {},
     "output_type": "execute_result"
    },
    {
     "data": {
      "image/png": "[encoded data removed]",
      "text/plain": [
       "<matplotlib.figure.Figure at 0x12042cba8>"
      ]
     },
     "metadata": {
      "needs_background": "light"
     },
     "output_type": "display_data"
    }
   ],
   "source": [
    "plt.plot(np.log10(m_coef_l), results)"
   ]
  },
  {
   "cell_type": "markdown",
   "metadata": {},
   "source": [
    "m are weights given to the prior probabilities. A large m indicates we are more confident about the prior distribution, the training set are less taken into account in making prediction; when m is small, we assume that the training set is representitive to the population, and we trust less on prior distritbution. \n",
    "\n",
    "Observed from the accuracy curve, as m becomes larger, the accuracy rate goes up a bit then decreases dramatically. "
   ]
  },
  {
   "cell_type": "markdown",
   "metadata": {},
   "source": [
    "### (f) If you were a spammer, how would you modify your emails to beat the classifiers we have learned above?"
   ]
  },
  {
   "cell_type": "markdown",
   "metadata": {},
   "source": [
    "if I were the spammer, to aviod being label as spam, we should increase the amount of 'ham' word in the email, so the email will be less likely to be classified as spam. "
   ]
  }
 ],
 "metadata": {
  "kernelspec": {
   "display_name": "Python 3",
   "language": "python",
   "name": "python3"
  },
  "language_info": {
   "codemirror_mode": {
    "name": "ipython",
    "version": 3
   },
   "file_extension": ".py",
   "mimetype": "text/x-python",
   "name": "python",
   "nbconvert_exporter": "python",
   "pygments_lexer": "ipython3",
   "version": "3.6.6"
  }
 },
 "nbformat": 4,
 "nbformat_minor": 2
}
